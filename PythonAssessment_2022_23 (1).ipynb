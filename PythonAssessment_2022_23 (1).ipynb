{
  "cells": [
    {
      "cell_type": "markdown",
      "metadata": {
        "id": "hqlAwxycceLg"
      },
      "source": [
        "# Welcome to the **Python Assessment** of **Vertical Collaboration, Open Community**\n",
        "\n",
        "## About the dataset\n",
        "This dataset contains house sale prices for King County, which includes Seattle. It includes homes sold between May 2014 and May 2015.\n",
        "\n",
        "##### To pass the assessment, you must answer all 11 questions correctly ***Bonus section is optional*.\n",
        "\n",
        "#### Wish you all the best!!\n",
        "\n",
        "\n"
      ]
    },
    {
      "cell_type": "code",
      "execution_count": null,
      "metadata": {
        "id": "wU_bXJPAcsQc"
      },
      "outputs": [],
      "source": [
        "import numpy as np\n",
        "import pandas as pd\n",
        "import matplotlib.pyplot as plt"
      ]
    },
    {
      "cell_type": "markdown",
      "metadata": {
        "id": "4XxnlWfzd7xk"
      },
      "source": [
        "Q1) Your understanding about (max 50 words)\n",
        "\n",
        "\n",
        "1.   NumPY:  NumPY is a python library used for working with arrays. It also has functions for working in domain of linear algebra, fourier transform and matrices. It stands for Numerical Python. It provides an array object that is up to 50x faster than traditional Python lists. \n",
        "2.   Pandas: Pandas is another open-source python library. It is a tool used to analyse data using its powerful data structures. Using pandas, we can process and analyse data in five steps, i.e., load, prepare, manipulate, model and analyse. It is fast and efficient with default and customised indexing. Inserting and deleting columns from a data structure is very easy using python.\n",
        "3.   MatPlotLib: MatPlotLib is a low-level graph plotting library in python. It is free and open-source. It is mostly written in Python, a few segments are written in C, Objective-C and Javascript for platform compatibility. It plots 2D quality images."
      ]
    },
    {
      "cell_type": "markdown",
      "metadata": {
        "id": "XmRRFzQccy3j"
      },
      "source": [
        "Q2) Upload the given dataset into the folder named sample_data"
      ]
    },
    {
      "cell_type": "code",
      "execution_count": null,
      "metadata": {
        "id": "npg0aacAcuDR"
      },
      "outputs": [],
      "source": [
        "sales = pd.read_csv('sample_data/kc_house_data.csv')"
      ]
    },
    {
      "cell_type": "markdown",
      "metadata": {
        "id": "zvQY-iP4c4HD"
      },
      "source": [
        "Q2) Find out the total number of rows and columns present in our dataset"
      ]
    },
    {
      "cell_type": "code",
      "execution_count": null,
      "metadata": {
        "id": "E22av13Mc3eE"
      },
      "outputs": [],
      "source": [
        "sales.shape"
      ]
    },
    {
      "cell_type": "markdown",
      "metadata": {
        "id": "R6EDQ3U7dMii"
      },
      "source": [
        "Q3) Find out the mean of Price"
      ]
    },
    {
      "cell_type": "code",
      "execution_count": null,
      "metadata": {
        "id": "2yVwB0Ztc9zz"
      },
      "outputs": [],
      "source": [
        "sales['price'].mean()"
      ]
    },
    {
      "cell_type": "markdown",
      "metadata": {
        "id": "2QO6-TXvddnN"
      },
      "source": [
        "Q4) Find out which zipcode has maximum no of sales"
      ]
    },
    {
      "cell_type": "code",
      "execution_count": null,
      "metadata": {
        "id": "vlSAsQfQfgg2"
      },
      "outputs": [],
      "source": [
        "sales.loc[sales['floors']==3,'zipcode']"
      ]
    },
    {
      "cell_type": "markdown",
      "metadata": {
        "id": "eeLeVaWBdj7e"
      },
      "source": [
        "Q5) Make an array displaying type of house grade present"
      ]
    },
    {
      "cell_type": "code",
      "execution_count": null,
      "metadata": {
        "id": "TOVrRt4sfhrK"
      },
      "outputs": [],
      "source": [
        "sales['grade'].value_counts()"
      ]
    },
    {
      "cell_type": "markdown",
      "metadata": {
        "id": "vyYhtqQDdxqj"
      },
      "source": [
        "Q6) Find out the total no sales in conditions 3 and 4"
      ]
    },
    {
      "cell_type": "code",
      "execution_count": null,
      "metadata": {
        "id": "SkBMOVvafiei"
      },
      "outputs": [],
      "source": [
        "sales.loc[(sales['codition']=='3','floors') | (sales['codition']=='4','floors')].shape(0)"
      ]
    },
    {
      "cell_type": "markdown",
      "metadata": {
        "id": "AHs7ZLKrdTsD"
      },
      "source": [
        "Q7) Find out the top-five ids with the highest prices"
      ]
    },
    {
      "cell_type": "code",
      "execution_count": null,
      "metadata": {
        "id": "BS653UBKfjfK"
      },
      "outputs": [],
      "source": []
    },
    {
      "cell_type": "markdown",
      "metadata": {
        "id": "XP54QULPdZTh"
      },
      "source": [
        "Q8) Draw a pie chart displaying the types of house conditions present"
      ]
    },
    {
      "cell_type": "code",
      "execution_count": null,
      "metadata": {
        "id": "5XP9quaFfkaI"
      },
      "outputs": [],
      "source": [
        "sales['condition'].value_count().plot(kind='pie', figsize=(6,6))"
      ]
    },
    {
      "cell_type": "markdown",
      "metadata": {
        "id": "8gkXMakRdgnZ"
      },
      "source": [
        "Q9) Draw a bar graph displaying the no of sales"
      ]
    },
    {
      "cell_type": "code",
      "execution_count": null,
      "metadata": {
        "id": "LFwCnSCUflFB"
      },
      "outputs": [],
      "source": [
        "sales['floors'].vaue_count().plot(kind='bar',figsize=(14,6))"
      ]
    },
    {
      "cell_type": "markdown",
      "metadata": {
        "id": "_LGgh106dsBQ"
      },
      "source": [
        "Q10) Draw a graph that display the no of sales according to the date"
      ]
    },
    {
      "cell_type": "code",
      "execution_count": null,
      "metadata": {
        "id": "pcKacoICflze"
      },
      "outputs": [],
      "source": [
        "sales.plot(kind='bar',x='date',y='floors',size=(14,6))\n"
      ]
    },
    {
      "cell_type": "markdown",
      "metadata": {
        "id": "jFgB7RxAd0rn"
      },
      "source": [
        "Q11) Draw a bar graph that displays the no of sales accoring to the house grade"
      ]
    },
    {
      "cell_type": "code",
      "execution_count": null,
      "metadata": {
        "id": "ZXPUs_hXfmdR"
      },
      "outputs": [],
      "source": [
        "sales.plot(kind='bar',x='grade',y='floors',size=(14,6))\n"
      ]
    },
    {
      "cell_type": "markdown",
      "metadata": {
        "id": "HXIvKNK7doXJ"
      },
      "source": [
        "### BONUS"
      ]
    },
    {
      "cell_type": "markdown",
      "metadata": {
        "id": "PRP0ZaKFe8xt"
      },
      "source": [
        "Q1) Is there any relationship present between Year Built and Price? If yes, Please explain."
      ]
    },
    {
      "cell_type": "code",
      "execution_count": null,
      "metadata": {
        "id": "FXoVpaJKdPSv"
      },
      "outputs": [],
      "source": [
        "# your code here"
      ]
    },
    {
      "cell_type": "markdown",
      "metadata": {
        "id": "QQvNxYe5d3-3"
      },
      "source": [
        "Q2 ) Add 1.8% TAX on every sale Price within Zipcode 98103"
      ]
    },
    {
      "cell_type": "code",
      "execution_count": null,
      "metadata": {
        "id": "lWDids4yfEAz"
      },
      "outputs": [],
      "source": [
        "sales.loc[sales['zipcode']=='98103','price'*1.8]"
      ]
    }
  ],
  "metadata": {
    "colab": {
      "collapsed_sections": [],
      "name": "PythonAssessment_2022-23",
      "provenance": []
    },
    "kernelspec": {
      "display_name": "Python 3",
      "name": "python3"
    },
    "language_info": {
      "name": "python"
    }
  },
  "nbformat": 4,
  "nbformat_minor": 0
}
